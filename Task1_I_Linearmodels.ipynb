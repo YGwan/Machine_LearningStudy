{
  "nbformat": 4,
  "nbformat_minor": 0,
  "metadata": {
    "colab": {
      "name": "Task1_I_Linearmodels.ipynb",
      "provenance": [],
      "collapsed_sections": [],
      "machine_shape": "hm",
      "include_colab_link": true
    },
    "kernelspec": {
      "name": "python3",
      "display_name": "Python 3"
    },
    "language_info": {
      "name": "python"
    }
  },
  "cells": [
    {
      "cell_type": "markdown",
      "metadata": {
        "id": "view-in-github",
        "colab_type": "text"
      },
      "source": [
        "<a href=\"https://colab.research.google.com/github/tjqldgkrl/Machine_LearningStudy/blob/main/Task1_I_Linearmodels.ipynb\" target=\"_parent\"><img src=\"https://colab.research.google.com/assets/colab-badge.svg\" alt=\"Open In Colab\"/></a>"
      ]
    },
    {
      "cell_type": "markdown",
      "metadata": {
        "id": "5wh8epeoM7K3"
      },
      "source": [
        "# Task 1-I : Linear Models\n",
        "\n",
        "* We will learn linear regression"
      ]
    },
    {
      "cell_type": "code",
      "metadata": {
        "id": "CV9BxAscOIPc",
        "colab": {
          "base_uri": "https://localhost:8080/"
        },
        "outputId": "f1e85a08-93aa-4dc7-b636-a1c0028fa162"
      },
      "source": [
        "###################\n",
        "## Run this cell ##\n",
        "###################\n",
        "import pandas as pd\n",
        "from sklearn.datasets import load_boston\n",
        "\n",
        "boston = load_boston()\n",
        "\n",
        "df = pd.DataFrame(boston.data, columns=boston.feature_names)\n",
        "df['MEDV'] = boston.target\n",
        "print(\"1 row is not about one house but one town \")\n",
        "print(boston.DESCR)"
      ],
      "execution_count": 1,
      "outputs": [
        {
          "output_type": "stream",
          "name": "stdout",
          "text": [
            "1 row is not about one house but one town \n",
            ".. _boston_dataset:\n",
            "\n",
            "Boston house prices dataset\n",
            "---------------------------\n",
            "\n",
            "**Data Set Characteristics:**  \n",
            "\n",
            "    :Number of Instances: 506 \n",
            "\n",
            "    :Number of Attributes: 13 numeric/categorical predictive. Median Value (attribute 14) is usually the target.\n",
            "\n",
            "    :Attribute Information (in order):\n",
            "        - CRIM     per capita crime rate by town\n",
            "        - ZN       proportion of residential land zoned for lots over 25,000 sq.ft.\n",
            "        - INDUS    proportion of non-retail business acres per town\n",
            "        - CHAS     Charles River dummy variable (= 1 if tract bounds river; 0 otherwise)\n",
            "        - NOX      nitric oxides concentration (parts per 10 million)\n",
            "        - RM       average number of rooms per dwelling\n",
            "        - AGE      proportion of owner-occupied units built prior to 1940\n",
            "        - DIS      weighted distances to five Boston employment centres\n",
            "        - RAD      index of accessibility to radial highways\n",
            "        - TAX      full-value property-tax rate per $10,000\n",
            "        - PTRATIO  pupil-teacher ratio by town\n",
            "        - B        1000(Bk - 0.63)^2 where Bk is the proportion of blacks by town\n",
            "        - LSTAT    % lower status of the population\n",
            "        - MEDV     Median value of owner-occupied homes in $1000's\n",
            "\n",
            "    :Missing Attribute Values: None\n",
            "\n",
            "    :Creator: Harrison, D. and Rubinfeld, D.L.\n",
            "\n",
            "This is a copy of UCI ML housing dataset.\n",
            "https://archive.ics.uci.edu/ml/machine-learning-databases/housing/\n",
            "\n",
            "\n",
            "This dataset was taken from the StatLib library which is maintained at Carnegie Mellon University.\n",
            "\n",
            "The Boston house-price data of Harrison, D. and Rubinfeld, D.L. 'Hedonic\n",
            "prices and the demand for clean air', J. Environ. Economics & Management,\n",
            "vol.5, 81-102, 1978.   Used in Belsley, Kuh & Welsch, 'Regression diagnostics\n",
            "...', Wiley, 1980.   N.B. Various transformations are used in the table on\n",
            "pages 244-261 of the latter.\n",
            "\n",
            "The Boston house-price data has been used in many machine learning papers that address regression\n",
            "problems.   \n",
            "     \n",
            ".. topic:: References\n",
            "\n",
            "   - Belsley, Kuh & Welsch, 'Regression diagnostics: Identifying Influential Data and Sources of Collinearity', Wiley, 1980. 244-261.\n",
            "   - Quinlan,R. (1993). Combining Instance-Based and Model-Based Learning. In Proceedings on the Tenth International Conference of Machine Learning, 236-243, University of Massachusetts, Amherst. Morgan Kaufmann.\n",
            "\n"
          ]
        }
      ]
    },
    {
      "cell_type": "code",
      "metadata": {
        "colab": {
          "base_uri": "https://localhost:8080/"
        },
        "id": "fyFw346jv2Hb",
        "outputId": "d22ad3e6-a164-470b-db13-c954fd39af02"
      },
      "source": [
        "df['MEDV']"
      ],
      "execution_count": 2,
      "outputs": [
        {
          "output_type": "execute_result",
          "data": {
            "text/plain": [
              "0      24.0\n",
              "1      21.6\n",
              "2      34.7\n",
              "3      33.4\n",
              "4      36.2\n",
              "       ... \n",
              "501    22.4\n",
              "502    20.6\n",
              "503    23.9\n",
              "504    22.0\n",
              "505    11.9\n",
              "Name: MEDV, Length: 506, dtype: float64"
            ]
          },
          "metadata": {},
          "execution_count": 2
        }
      ]
    },
    {
      "cell_type": "markdown",
      "metadata": {
        "id": "ysdKMutyO8Mi"
      },
      "source": [
        "# Q1. Split the df into training set & test set\n",
        "\n",
        "1. x : all columns in df except 'MEDV'\n",
        "2. y : the column 'MEDV' in df (df['MEDV'])\n",
        "3. variable names :\n",
        "    * x_train, y_train\n",
        "    * x_test, y_test\n",
        "4. train : test = 8 : 2\n",
        "5. randomstate : 2021\n",
        "\n",
        "Question : Why we need to prepare test set?\n",
        "\n",
        "**Your Answer :**"
      ]
    },
    {
      "cell_type": "code",
      "metadata": {
        "id": "Jq7WBOFTQK7j"
      },
      "source": [
        "#################################################\n",
        "## This cell will not be provided, after Task1 ##\n",
        "#################################################\n",
        "#model 구축이 잘돼있는지 확인하는 과정#\n",
        "from sklearn.model_selection import train_test_split\n",
        "\n",
        "x_train, x_test, y_train, y_test = train_test_split(df.drop(['MEDV'], axis=1), df['MEDV'],\n",
        "                                                    test_size=0.2, random_state=2021 )\n"
      ],
      "execution_count": 3,
      "outputs": []
    },
    {
      "cell_type": "code",
      "metadata": {
        "colab": {
          "base_uri": "https://localhost:8080/",
          "height": 419
        },
        "id": "JkDZOnza9u8H",
        "outputId": "e0e6839f-ae7b-44ef-ebfc-2271e5f7291a"
      },
      "source": [
        "x_train"
      ],
      "execution_count": 4,
      "outputs": [
        {
          "output_type": "execute_result",
          "data": {
            "text/html": [
              "<div>\n",
              "<style scoped>\n",
              "    .dataframe tbody tr th:only-of-type {\n",
              "        vertical-align: middle;\n",
              "    }\n",
              "\n",
              "    .dataframe tbody tr th {\n",
              "        vertical-align: top;\n",
              "    }\n",
              "\n",
              "    .dataframe thead th {\n",
              "        text-align: right;\n",
              "    }\n",
              "</style>\n",
              "<table border=\"1\" class=\"dataframe\">\n",
              "  <thead>\n",
              "    <tr style=\"text-align: right;\">\n",
              "      <th></th>\n",
              "      <th>CRIM</th>\n",
              "      <th>ZN</th>\n",
              "      <th>INDUS</th>\n",
              "      <th>CHAS</th>\n",
              "      <th>NOX</th>\n",
              "      <th>RM</th>\n",
              "      <th>AGE</th>\n",
              "      <th>DIS</th>\n",
              "      <th>RAD</th>\n",
              "      <th>TAX</th>\n",
              "      <th>PTRATIO</th>\n",
              "      <th>B</th>\n",
              "      <th>LSTAT</th>\n",
              "    </tr>\n",
              "  </thead>\n",
              "  <tbody>\n",
              "    <tr>\n",
              "      <th>28</th>\n",
              "      <td>0.77299</td>\n",
              "      <td>0.0</td>\n",
              "      <td>8.14</td>\n",
              "      <td>0.0</td>\n",
              "      <td>0.538</td>\n",
              "      <td>6.495</td>\n",
              "      <td>94.4</td>\n",
              "      <td>4.4547</td>\n",
              "      <td>4.0</td>\n",
              "      <td>307.0</td>\n",
              "      <td>21.0</td>\n",
              "      <td>387.94</td>\n",
              "      <td>12.80</td>\n",
              "    </tr>\n",
              "    <tr>\n",
              "      <th>498</th>\n",
              "      <td>0.23912</td>\n",
              "      <td>0.0</td>\n",
              "      <td>9.69</td>\n",
              "      <td>0.0</td>\n",
              "      <td>0.585</td>\n",
              "      <td>6.019</td>\n",
              "      <td>65.3</td>\n",
              "      <td>2.4091</td>\n",
              "      <td>6.0</td>\n",
              "      <td>391.0</td>\n",
              "      <td>19.2</td>\n",
              "      <td>396.90</td>\n",
              "      <td>12.92</td>\n",
              "    </tr>\n",
              "    <tr>\n",
              "      <th>284</th>\n",
              "      <td>0.00906</td>\n",
              "      <td>90.0</td>\n",
              "      <td>2.97</td>\n",
              "      <td>0.0</td>\n",
              "      <td>0.400</td>\n",
              "      <td>7.088</td>\n",
              "      <td>20.8</td>\n",
              "      <td>7.3073</td>\n",
              "      <td>1.0</td>\n",
              "      <td>285.0</td>\n",
              "      <td>15.3</td>\n",
              "      <td>394.72</td>\n",
              "      <td>7.85</td>\n",
              "    </tr>\n",
              "    <tr>\n",
              "      <th>414</th>\n",
              "      <td>45.74610</td>\n",
              "      <td>0.0</td>\n",
              "      <td>18.10</td>\n",
              "      <td>0.0</td>\n",
              "      <td>0.693</td>\n",
              "      <td>4.519</td>\n",
              "      <td>100.0</td>\n",
              "      <td>1.6582</td>\n",
              "      <td>24.0</td>\n",
              "      <td>666.0</td>\n",
              "      <td>20.2</td>\n",
              "      <td>88.27</td>\n",
              "      <td>36.98</td>\n",
              "    </tr>\n",
              "    <tr>\n",
              "      <th>123</th>\n",
              "      <td>0.15038</td>\n",
              "      <td>0.0</td>\n",
              "      <td>25.65</td>\n",
              "      <td>0.0</td>\n",
              "      <td>0.581</td>\n",
              "      <td>5.856</td>\n",
              "      <td>97.0</td>\n",
              "      <td>1.9444</td>\n",
              "      <td>2.0</td>\n",
              "      <td>188.0</td>\n",
              "      <td>19.1</td>\n",
              "      <td>370.31</td>\n",
              "      <td>25.41</td>\n",
              "    </tr>\n",
              "    <tr>\n",
              "      <th>...</th>\n",
              "      <td>...</td>\n",
              "      <td>...</td>\n",
              "      <td>...</td>\n",
              "      <td>...</td>\n",
              "      <td>...</td>\n",
              "      <td>...</td>\n",
              "      <td>...</td>\n",
              "      <td>...</td>\n",
              "      <td>...</td>\n",
              "      <td>...</td>\n",
              "      <td>...</td>\n",
              "      <td>...</td>\n",
              "      <td>...</td>\n",
              "    </tr>\n",
              "    <tr>\n",
              "      <th>109</th>\n",
              "      <td>0.26363</td>\n",
              "      <td>0.0</td>\n",
              "      <td>8.56</td>\n",
              "      <td>0.0</td>\n",
              "      <td>0.520</td>\n",
              "      <td>6.229</td>\n",
              "      <td>91.2</td>\n",
              "      <td>2.5451</td>\n",
              "      <td>5.0</td>\n",
              "      <td>384.0</td>\n",
              "      <td>20.9</td>\n",
              "      <td>391.23</td>\n",
              "      <td>15.55</td>\n",
              "    </tr>\n",
              "    <tr>\n",
              "      <th>128</th>\n",
              "      <td>0.32543</td>\n",
              "      <td>0.0</td>\n",
              "      <td>21.89</td>\n",
              "      <td>0.0</td>\n",
              "      <td>0.624</td>\n",
              "      <td>6.431</td>\n",
              "      <td>98.8</td>\n",
              "      <td>1.8125</td>\n",
              "      <td>4.0</td>\n",
              "      <td>437.0</td>\n",
              "      <td>21.2</td>\n",
              "      <td>396.90</td>\n",
              "      <td>15.39</td>\n",
              "    </tr>\n",
              "    <tr>\n",
              "      <th>57</th>\n",
              "      <td>0.01432</td>\n",
              "      <td>100.0</td>\n",
              "      <td>1.32</td>\n",
              "      <td>0.0</td>\n",
              "      <td>0.411</td>\n",
              "      <td>6.816</td>\n",
              "      <td>40.5</td>\n",
              "      <td>8.3248</td>\n",
              "      <td>5.0</td>\n",
              "      <td>256.0</td>\n",
              "      <td>15.1</td>\n",
              "      <td>392.90</td>\n",
              "      <td>3.95</td>\n",
              "    </tr>\n",
              "    <tr>\n",
              "      <th>341</th>\n",
              "      <td>0.01301</td>\n",
              "      <td>35.0</td>\n",
              "      <td>1.52</td>\n",
              "      <td>0.0</td>\n",
              "      <td>0.442</td>\n",
              "      <td>7.241</td>\n",
              "      <td>49.3</td>\n",
              "      <td>7.0379</td>\n",
              "      <td>1.0</td>\n",
              "      <td>284.0</td>\n",
              "      <td>15.5</td>\n",
              "      <td>394.74</td>\n",
              "      <td>5.49</td>\n",
              "    </tr>\n",
              "    <tr>\n",
              "      <th>116</th>\n",
              "      <td>0.13158</td>\n",
              "      <td>0.0</td>\n",
              "      <td>10.01</td>\n",
              "      <td>0.0</td>\n",
              "      <td>0.547</td>\n",
              "      <td>6.176</td>\n",
              "      <td>72.5</td>\n",
              "      <td>2.7301</td>\n",
              "      <td>6.0</td>\n",
              "      <td>432.0</td>\n",
              "      <td>17.8</td>\n",
              "      <td>393.30</td>\n",
              "      <td>12.04</td>\n",
              "    </tr>\n",
              "  </tbody>\n",
              "</table>\n",
              "<p>404 rows × 13 columns</p>\n",
              "</div>"
            ],
            "text/plain": [
              "         CRIM     ZN  INDUS  CHAS    NOX  ...   RAD    TAX  PTRATIO       B  LSTAT\n",
              "28    0.77299    0.0   8.14   0.0  0.538  ...   4.0  307.0     21.0  387.94  12.80\n",
              "498   0.23912    0.0   9.69   0.0  0.585  ...   6.0  391.0     19.2  396.90  12.92\n",
              "284   0.00906   90.0   2.97   0.0  0.400  ...   1.0  285.0     15.3  394.72   7.85\n",
              "414  45.74610    0.0  18.10   0.0  0.693  ...  24.0  666.0     20.2   88.27  36.98\n",
              "123   0.15038    0.0  25.65   0.0  0.581  ...   2.0  188.0     19.1  370.31  25.41\n",
              "..        ...    ...    ...   ...    ...  ...   ...    ...      ...     ...    ...\n",
              "109   0.26363    0.0   8.56   0.0  0.520  ...   5.0  384.0     20.9  391.23  15.55\n",
              "128   0.32543    0.0  21.89   0.0  0.624  ...   4.0  437.0     21.2  396.90  15.39\n",
              "57    0.01432  100.0   1.32   0.0  0.411  ...   5.0  256.0     15.1  392.90   3.95\n",
              "341   0.01301   35.0   1.52   0.0  0.442  ...   1.0  284.0     15.5  394.74   5.49\n",
              "116   0.13158    0.0  10.01   0.0  0.547  ...   6.0  432.0     17.8  393.30  12.04\n",
              "\n",
              "[404 rows x 13 columns]"
            ]
          },
          "metadata": {},
          "execution_count": 4
        }
      ]
    },
    {
      "cell_type": "markdown",
      "metadata": {
        "id": "98i6fFp7Rfhc"
      },
      "source": [
        "# Q2. Train linear regression model\n",
        "\n",
        "1. declare your model as lr"
      ]
    },
    {
      "cell_type": "code",
      "metadata": {
        "id": "xh2gY3PQSAep"
      },
      "source": [
        "####################\n",
        "## Your code here ##\n",
        "####################\n",
        "from sklearn.linear_model import LinearRegression\n",
        "model =  LinearRegression()\n",
        "model.fit(x_train,y_train) \n",
        "#데이터셋을 학습시킬땐, test셋을 제외한 train셋만으로 학습시켜야된다.\n"
      ],
      "execution_count": 5,
      "outputs": []
    },
    {
      "cell_type": "markdown",
      "metadata": {
        "id": "T69nC-7sTLij"
      },
      "source": [
        "# Q3. Make a prediction\n",
        "1. y_pred_train : prediction on training set\n",
        "2. y_pred_test : prediction on test set"
      ]
    },
    {
      "cell_type": "code",
      "metadata": {
        "id": "inHofowNTLSb"
      },
      "source": [
        "####################\n",
        "## Your code here ##\n",
        "####################\n",
        "\n",
        "#model.fit(df.drop(['MEDV'], axis=1), df['MEDV'])\n",
        "y_pred_train = model.predict(x_train)\n",
        "y_pred_test = model.predict(x_test)\n"
      ],
      "execution_count": 10,
      "outputs": []
    },
    {
      "cell_type": "markdown",
      "metadata": {
        "id": "itJyUfohSQPL"
      },
      "source": [
        "# Q4. Evaluate the model on the training set & test set\n",
        "\n",
        "* Use RMSE\n",
        "\n",
        "Question : If rmse is 4, can we say the error of our model is $4? \n",
        "\n",
        "**Your Answer :**"
      ]
    },
    {
      "cell_type": "code",
      "metadata": {
        "id": "_gZPr4JHSyCh",
        "colab": {
          "base_uri": "https://localhost:8080/"
        },
        "outputId": "3a1bfac0-3173-4706-9114-c589ff2d1dee"
      },
      "source": [
        "####################\n",
        "## Your code here ##\n",
        "####################\n",
        "#rmse란 말그대로 실험이나 관측에서 나타나는 오차(Error)를 제곱(Square)해서 평균(Mean)한 값의 제곱근(Root)이다.\n",
        "#rmse값은 결국 오차(실제값-관측값)와 관련된 값이므로 작을수록 정밀도가 높은 것 입니다.\n",
        "import numpy as np\n",
        "from sklearn.metrics import mean_squared_error\n",
        "\n",
        "def RMSE(y, pred):\n",
        "    return np.sqrt(np.mean(np.square(y-pred)))\n",
        "\n",
        "RMSE(y_train,y_pred_train),RMSE(y_test,y_pred_test)\n",
        "\n",
        "#rmse2 = mean_squared_error(y_test,y_pred_test)**0.5\n",
        "#print(rmse2)"
      ],
      "execution_count": 11,
      "outputs": [
        {
          "output_type": "execute_result",
          "data": {
            "text/plain": [
              "(4.6746677866213036, 4.826999984002403)"
            ]
          },
          "metadata": {},
          "execution_count": 11
        }
      ]
    },
    {
      "cell_type": "markdown",
      "metadata": {
        "id": "25RjfFBLVusx"
      },
      "source": [
        "# Q5. Complete the equation of the linear regression model\n",
        "\n",
        "\\begin{align}\n",
        "MEDV = \\beta_0 &\\ + \\beta_1*CRIM + \\beta_2*ZN + \\beta_3*INDUS + \\beta_4*CHAS \\\\\n",
        "&+ \\beta_5*NOX + \\beta_6*RM + \\beta_7*AGE + \\beta_8*DIS + \\beta_9*RAD \\\\\n",
        "& + \\beta_{10}*TAX + \\beta_{11}*PTRATIO + \\beta_{12}*B + \\beta_{13}*LSTAT\n",
        "\\end{align}\n",
        "\n",
        "* print $ \\beta_0 $ ~ $ \\beta_{13} $ with feature(column) name\n",
        "* example\n",
        "```\n",
        "beta_0 for intercept : 21\n",
        "beta_1 for CRIM : - 12\n",
        "~~~\n",
        "beta_13 for LSTAT : -5 \n",
        "```\n",
        "\n"
      ]
    },
    {
      "cell_type": "code",
      "metadata": {
        "id": "tSV6PPQMYWE6",
        "colab": {
          "base_uri": "https://localhost:8080/"
        },
        "outputId": "82393821-0ce9-4b54-fa76-5d5ba1733db9"
      },
      "source": [
        "####################\n",
        "## Your code here ##\n",
        "####################\n",
        "print(\"beta_0 for intercept :\",model.intercept_)\n",
        "name = df.drop(\"MEDV\",axis=1).columns\n",
        "for i in range(0,13):\n",
        "    print(f\"beta_{i+1} {name[i]} : {model.coef_[i]}\")\n"
      ],
      "execution_count": 12,
      "outputs": [
        {
          "output_type": "stream",
          "name": "stdout",
          "text": [
            "beta_0 for intercept : 35.074446443842035\n",
            "beta_1 CRIM : -0.11455671812732975\n",
            "beta_2 ZN : 0.05323427588138077\n",
            "beta_3 INDUS : 0.003283317180316192\n",
            "beta_4 CHAS : 3.508465036705998\n",
            "beta_5 NOX : -18.13566684114273\n",
            "beta_6 RM : 3.8252394730909423\n",
            "beta_7 AGE : 0.011058249800921273\n",
            "beta_8 DIS : -1.529967394769819\n",
            "beta_9 RAD : 0.33922130811188655\n",
            "beta_10 TAX : -0.011867833580858023\n",
            "beta_11 PTRATIO : -0.8842149500225382\n",
            "beta_12 B : 0.009528304243272022\n",
            "beta_13 LSTAT : -0.57816905178081\n"
          ]
        }
      ]
    },
    {
      "cell_type": "markdown",
      "metadata": {
        "id": "-4bJr2pQJnce"
      },
      "source": [
        "# Q6. Analyze the effect of 'RM' (average average number of rooms per dwelling)\n",
        "\n",
        "**assumption1 : every other features are fixed.**<br>\n",
        "**assumption2 : use training set to anlayze.**\n",
        "1. How does the 'MEDV(house price)' change when 'RM' increases by 1 ?\n",
        "2. What is the change in the 'MEDV' due to the standard deviation(std) of 'RM'\n",
        "    * hint : beta_6 * std('RM')\n",
        "    * you can regard std('RM') as a mean variablity of 'RM' ( roughly )\n",
        "3. What is the change in the 'MEDV' due to the maximum change of 'RM'\n",
        "    * hint : maximum change of 'RM' = max('RM') - min('RM')\n"
      ]
    },
    {
      "cell_type": "code",
      "metadata": {
        "id": "bjGxFWy-MPiN",
        "colab": {
          "base_uri": "https://localhost:8080/"
        },
        "outputId": "a62731f3-3ef1-4f33-8161-504184a1a0c7"
      },
      "source": [
        "####################\n",
        "## Your code here ##\n",
        "####################\n",
        "model.fit(x_train,y_train)\n",
        "coef = model.coef_[name=='RM']\n",
        "print(coef)\n",
        "#df[\"RM\"].max(), df[\"RM\"].min(), df[\"RM\"].mean(), df[\"RM\"].std())\n",
        "\n",
        "std = df[\"RM\"].std()\n",
        "print(coef*std)\n",
        "max_change = df[\"RM\"].max() - df[\"RM\"].min()\n",
        "print(coef*max_change)\n",
        "\n"
      ],
      "execution_count": 13,
      "outputs": [
        {
          "output_type": "stream",
          "name": "stdout",
          "text": [
            "[3.82523947]\n",
            "[2.68767883]\n",
            "[19.96392481]\n"
          ]
        }
      ]
    },
    {
      "cell_type": "markdown",
      "metadata": {
        "id": "zg2aZa0xbf6D"
      },
      "source": [
        "# Q7. Analyze the effect of 'NOX' ( nitric oxides concentration (parts per 10 million) )\n",
        "\n",
        "**assumption1 : every other features are fixed.**<br>\n",
        "**assumption2 : use training set to anlayze.**\n",
        "1. How does the 'MEDV(house price)' change when 'NOX' increases by 1 ?\n",
        "2. Can 'NOX' change by 1 in the data?\n",
        "3. What is the change in the 'MEDV' due to the standard deviation(std) of 'NOX'\n",
        "4. What is the change in the 'MEDV' due to the maximum change of 'NOX'\n"
      ]
    },
    {
      "cell_type": "code",
      "metadata": {
        "id": "w2rhAVV-bf6D",
        "colab": {
          "base_uri": "https://localhost:8080/"
        },
        "outputId": "d1a595fd-fae7-4aee-e970-79bc888ca0ef"
      },
      "source": [
        "####################\n",
        "## Your code here ##\n",
        "####################\n",
        "coef_NOX = model.coef_[name == \"NOX\"]\n",
        "print(coef_NOX)\n",
        "df[\"NOX\"].max(), df[\"NOX\"].min(), df[\"NOX\"].max()- df[\"NOX\"].min()\n",
        "print(\"최대 변화량이 1이 넘지 않으므로 변할 수 없다\")\n",
        "std = df[\"NOX\"].std()\n",
        "print(coef_NOX*std)\n",
        "max_change = df[\"NOX\"].max() - df[\"NOX\"].min()\n",
        "print(coef_NOX*max_change)\n",
        "\n"
      ],
      "execution_count": 16,
      "outputs": [
        {
          "output_type": "stream",
          "name": "stdout",
          "text": [
            "[-18.13566684]\n",
            "최대 변화량이 1이 넘지 않으므로 변할 수 없다\n",
            "[-2.10151892]\n",
            "[-8.81393408]\n"
          ]
        }
      ]
    },
    {
      "cell_type": "markdown",
      "metadata": {
        "id": "kX_ldhpyc0EL"
      },
      "source": [
        "# Q8. Anlayze the intercept\n",
        "**assumption1 : use training set to anlayze.**\n",
        "1. What is the expected mean value of 'MEDV' in $ when all features(x) have no effect\n",
        "    * you can regard intercept as default value of 'MEDV' ( roughly )\n",
        "    * be careful : in $, not in $1,000\n",
        "2. Can all features(x) be zero in the data?\n",
        "    * Can all features(x) have no effect?\n"
      ]
    },
    {
      "cell_type": "code",
      "metadata": {
        "id": "wJGo2YjnfTQF",
        "colab": {
          "base_uri": "https://localhost:8080/"
        },
        "outputId": "d0f77100-26d3-4502-c995-6ca06cc73d86"
      },
      "source": [
        "####################\n",
        "## Your code here ##\n",
        "####################\n",
        "\n",
        "print(f\"{model.intercept_*1000}\")\n",
        "print(\"impossible\")\n",
        "\n",
        "\n"
      ],
      "execution_count": 18,
      "outputs": [
        {
          "output_type": "stream",
          "name": "stdout",
          "text": [
            "35074.44644384203\n",
            "impossible\n"
          ]
        }
      ]
    },
    {
      "cell_type": "markdown",
      "metadata": {
        "id": "djgWpHA4tIEy"
      },
      "source": [
        ""
      ]
    }
  ]
}